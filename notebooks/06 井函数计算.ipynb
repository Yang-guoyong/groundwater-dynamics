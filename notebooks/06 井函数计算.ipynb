{
 "cells": [
  {
   "cell_type": "markdown",
   "metadata": {},
   "source": [
    "# **井函数计算**"
   ]
  },
  {
   "cell_type": "markdown",
   "metadata": {},
   "source": [
    "本课程的井函数计算方法散见有关文献，在此不一一列举。以下介绍 Theis、Hantush-Jacob、Neuman 三种函数的计算方法。"
   ]
  },
  {
   "cell_type": "markdown",
   "metadata": {},
   "source": [
    "## Theis井函数\n",
    "\n",
    "$$\n",
    "W(u)=\\int_u^\\infty\\frac{\\mathrm{e}^{-y}}{y}\\mathrm{d}y=\\mathrm{E}_1(u)=-\\mathrm{E}_i(-u)\n",
    "$$\n",
    "\n",
    "`scipy.special.exp1`可以计算井函数, 也可用多项式逼近。"
   ]
  },
  {
   "cell_type": "markdown",
   "metadata": {},
   "source": [
    "**（1）导入一些库**"
   ]
  },
  {
   "cell_type": "code",
   "execution_count": 1,
   "metadata": {},
   "outputs": [],
   "source": [
    "%matplotlib inline\n",
    "\n",
    "import matplotlib.pyplot as plt\n",
    "import numpy as np\n",
    "import scipy.special as sps\n",
    "\n",
    "np.set_printoptions(precision=4)"
   ]
  },
  {
   "cell_type": "markdown",
   "metadata": {},
   "source": [
    "**（2）定义一个测试函数**"
   ]
  },
  {
   "cell_type": "code",
   "execution_count": 2,
   "metadata": {},
   "outputs": [],
   "source": [
    "def timer(func):\n",
    "    def func_wrapper(*args, **kwargs):\n",
    "        from time import time\n",
    "\n",
    "        time_start = time()\n",
    "        result = func(*args, **kwargs)\n",
    "        time_end = time()\n",
    "        time_spend = time_end - time_start\n",
    "        print(\"%s cost time: %.6f s\" % (func.__name__, time_spend))\n",
    "        return result\n",
    "\n",
    "    return func_wrapper"
   ]
  },
  {
   "cell_type": "markdown",
   "metadata": {},
   "source": [
    "**（3）用 sps.exp1 计算**"
   ]
  },
  {
   "cell_type": "code",
   "execution_count": 3,
   "metadata": {},
   "outputs": [
    {
     "name": "stdout",
     "output_type": "stream",
     "text": [
      "theis1 cost time: 0.000000 s\n",
      "[22.4486 20.1461 17.8435 15.5409 13.2383 10.9357  8.6332  6.3315  4.0379\n",
      "  1.8229  0.2194]\n"
     ]
    }
   ],
   "source": [
    "@timer\n",
    "def theis1(u):\n",
    "    return sps.exp1(u)\n",
    "\n",
    "\n",
    "u = np.array([10**x for x in range(-10, 1)])\n",
    "\n",
    "print(theis1(u))"
   ]
  },
  {
   "cell_type": "markdown",
   "metadata": {},
   "source": [
    "**（4）多项式逼近**\n",
    "\n",
    "- $0<u\\le1$ 时\n",
    "\n",
    "$$\n",
    "W(u)=-{\\ln}u+a_0+a_1u+a_2u^2+a_3u^3+a_4u^4+a_5u^5\n",
    "$$\n",
    "\n",
    "式中\n",
    "\n",
    "$$\n",
    "\\begin{array}{lrlr}\n",
    "a_0 =&-0.57721566 & a_3 =& 0.05519968\\\\\n",
    "a_1 =& 0.99999193 & a_4 =&-0.00976004\\\\\n",
    "a_2 =&-0.24991055 & a_5 =& 0.00107857\\\\\n",
    "\\end{array}\n",
    "$$\n",
    "\n",
    "- $1 < u < \\infty$ 时\n",
    "\n",
    "$$\n",
    "W(u)=\\frac{b_0+b_1u+b_2u^2+b_3u^3+u^4}{c_0+c_1u+c_2u^2+c_3u^3+ u^4}\\cdot\n",
    "\\frac{e^{-u}}{u}\n",
    "$$\n",
    "\n",
    "式中 \n",
    "\n",
    "$$\n",
    "\\begin{array}{lrlr}\n",
    "b_0 =&  0.2677737343 & c_0 =&  3.9584969228 \\\\\n",
    "b_1 =&  8.6347608925 & c_1 =& 21.0996530827 \\\\\n",
    "b_2 =& 18.0590169730 & c_2 =& 25.6329561486 \\\\\n",
    "b_3 =&  8.5733287401 & c_3 =&  9.5733223454 \\\\\n",
    "\\end{array}\n",
    "$$"
   ]
  },
  {
   "cell_type": "code",
   "execution_count": 4,
   "metadata": {},
   "outputs": [],
   "source": [
    "@timer\n",
    "def theis2(u):\n",
    "    \"\"\"\n",
    "    多项式逼近方法计算 Theis 井函数.\n",
    "        u = r^2 S/(4Tt), u 为数组时返回数组。\n",
    "    \"\"\"\n",
    "\n",
    "    def wellfunc(u):\n",
    "        a = [-0.57721566, 0.99999193, -0.24991055, 0.05519968, -0.00976004, 0.00107857]\n",
    "        b = [0.2677737343, 8.6347608925, 18.059016973, 8.5733287401]\n",
    "        c = [3.9584969228, 21.0996530827, 25.6329561486, 9.5733223454]\n",
    "\n",
    "        if u <= 1:\n",
    "            w = (\n",
    "                -np.log(u)\n",
    "                + a[0]\n",
    "                + u * (a[1] + u * (a[2] + u * (a[3] + u * (a[4] + u * a[5]))))\n",
    "            )\n",
    "        else:\n",
    "            w = c[0] + u * (c[1] + u * (c[2] + u * (c[3] + u)))\n",
    "            w = (b[0] + u * (b[1] + u * (b[2] + u * (b[3] + u)))) / w\n",
    "            w = w * np.exp(-u) / u\n",
    "\n",
    "        return w\n",
    "\n",
    "    well = np.vectorize(wellfunc)  # 向量化函数\n",
    "\n",
    "    return 1.0 * well(u)"
   ]
  },
  {
   "cell_type": "code",
   "execution_count": 5,
   "metadata": {},
   "outputs": [
    {
     "name": "stdout",
     "output_type": "stream",
     "text": [
      "Help on function func_wrapper in module __main__:\n",
      "\n",
      "func_wrapper(*args, **kwargs)\n",
      "\n"
     ]
    }
   ],
   "source": [
    "help(theis2)"
   ]
  },
  {
   "cell_type": "code",
   "execution_count": 6,
   "metadata": {},
   "outputs": [
    {
     "name": "stdout",
     "output_type": "stream",
     "text": [
      "theis2 cost time: 0.000000 s\n",
      "[22.4486 20.1461 17.8435 15.5409 13.2383 10.9357  8.6332  6.3315  4.0379\n",
      "  1.8229  0.2194]\n"
     ]
    }
   ],
   "source": [
    "u = np.array([10**x for x in range(-10, 1)])\n",
    "\n",
    "print(theis2(u))"
   ]
  },
  {
   "cell_type": "markdown",
   "metadata": {},
   "source": [
    "# Hantush-Jacob 井函数\n",
    "\n",
    "$$\n",
    "W(u, \\beta) = \\int_u^\\infty \\frac{1}{y}\\exp\\Big(-y - \\frac{\\beta^2}{4y}\\Big) dy ,\\quad W(u,\\beta)=2K_0(\\beta)-W\\bigg(\\frac{\\beta^2}{4u},\\beta\\bigg)\n",
    "$$\n",
    "\n",
    "式中：$u=\\frac{r^2S}{4Tt},\\quad \\beta=\\frac{r}{B}$.\n",
    "\n",
    "**级数形式（Hunt，1977）**\n",
    "\n",
    "$$\n",
    "W(u,\\beta)=\\sum\\limits_{n=0}^\\infty\\bigg(-\\frac{\\beta^2}{4u}\\bigg)^n\\frac{E_{n+1}(u)}{n!}\n",
    "$$\n",
    "\n",
    "式中，\n",
    "\n",
    "$$\n",
    "E_n(u)=\\int_1^\\infty\\frac{e^{-uy}}{y^n}dy=u^{n-1}\\int_u^\\infty\\frac{e^{-y}} {y^n}dy\\quad(n=0,1,2,\\cdots;\\quad \\Re{u}>0)\n",
    "$$\n",
    "为指数积分，当 $\\frac{\\beta^2}{4u}<1$ 时级数快速收敛。\n",
    "\n",
    "`scipy.special.expn` 计算指数积分，`scipy.special.k0` 计算 0 阶第二类修正 Bessel 函数 $K_0(x)$。"
   ]
  },
  {
   "cell_type": "markdown",
   "metadata": {},
   "source": [
    "若用Excel计算，需要自己编写VBA代码。参考公式如下：\n",
    "\n",
    "**指数积分（Abramowitz and Stegun，1964)**\n",
    "\n",
    "$$\n",
    "E_n(u)=\\int_1^\\infty\\frac{e^{-uy}}{y^n}dy=u^{n-1}\\int_u^\\infty\\frac{e^{-y}} {y^n}dy\\quad(n=0,1,2,\\cdots;\\quad \\Re{u}>0)\n",
    "$$\n",
    "\n",
    "递推关系：\n",
    "\n",
    "$$\n",
    "E_{n+1}(u)=\\frac{1}{n}\\Big[e^{-u}-uE_n(u)\\Big]\\\\\n",
    "E_{n}(u)=\\frac{1}{u}\\Big[e^{-u}-nE_{n+1}(u)\\Big]\\quad(n=0,1,2,\\cdots)\n",
    "$$\n",
    "\n",
    "当 $u$ 为实数时，\n",
    "- $n=0$\n",
    "\n",
    "   $$\n",
    "   E_0(u)=\\frac{e^{-u}}{u}\n",
    "   $$\n",
    "  \n",
    "- $n=1$\n",
    "\n",
    "   $$\n",
    "   E_1(u)=W(u)\n",
    "   $$\n",
    "  \n",
    "- $n>1$\n",
    "   - $u\\le5$：递推公式向前（递推）计算高阶指数积分;\n",
    "   - $u>5$ ：\n",
    "      $n\\le u$ 时用递归公式向后（递归）计算低阶指数积分;\n",
    "      $n>u$ 时，记 $n_0=<u>$（取 $u$ 的整数部分），用递归关系计算小于 $n_0$ 的低阶指数积分，用递推关系计算大于 $n_0$ 的高阶指数积分。\n",
    "- 对于大的 $n$, 可用以下的多项式逼近\n",
    "\n",
    "   $$\n",
    "   E_n(u)=\\frac{e^{-u}}{u+n}\\bigg\\{1+\\frac{n}{(n+u)^2}+\\frac{n(n-2u)}{(u+n)^4}\n",
    "   +\\frac{n(6u^2-8nu+n^2)}{(u+n)^6} +R(n,u)\\bigg\\}\n",
    "   $$\n",
    "\n",
    "   $$\n",
    "   -0.36n^{-4}\\le R(n,u)\\le\\bigg(1+\\frac{1}{u+n-1}\\bigg)n^{-4} \\quad (u>0)\n",
    "   $$\n",
    "    "
   ]
  },
  {
   "cell_type": "code",
   "execution_count": 7,
   "metadata": {},
   "outputs": [],
   "source": [
    "@timer\n",
    "def hantush_jacob(u, beta):\n",
    "    \"\"\"\n",
    "    指数积分级数方法计算 Hantush-Jacob 井函数.\n",
    "        u = r^2 S/(4Tt);\n",
    "        beta = r/B;\n",
    "        u, beta 可以为数组并返回数组。\n",
    "    \"\"\"\n",
    "\n",
    "    def wellfunc(u, beta):\n",
    "        if u < 0:\n",
    "            print(\"Negative are not allowed\")\n",
    "            return np.nan\n",
    "\n",
    "        if u == 0:\n",
    "            return 2.0 * sps.k0(beta)\n",
    "\n",
    "        r = 1\n",
    "        t = beta**2 / (4 * u)\n",
    "        b = 2 * u\n",
    "\n",
    "        if beta <= b:  # beta<2u\n",
    "            W = 0\n",
    "            n = 0\n",
    "            term = r * sps.expn(n + 1, u)\n",
    "            while np.abs(term) > 1e-10:\n",
    "                W = W + term\n",
    "                n = n + 1\n",
    "                r = r * (-t) / n\n",
    "                term = r * sps.expn(n + 1, u)\n",
    "        else:\n",
    "            W = 2.0 * sps.k0(beta)\n",
    "            n = 0\n",
    "            term = r * sps.expn(n + 1, t)\n",
    "            while np.abs(term) > 1e-10:\n",
    "                W = W - term\n",
    "                n = n + 1\n",
    "                r = r * (-u) / n\n",
    "                term = r * sps.expn(n + 1, t)\n",
    "\n",
    "        return W\n",
    "\n",
    "    well = np.vectorize(wellfunc)\n",
    "\n",
    "    return 1.0 * well(u, beta)"
   ]
  },
  {
   "cell_type": "code",
   "execution_count": 8,
   "metadata": {},
   "outputs": [
    {
     "name": "stdout",
     "output_type": "stream",
     "text": [
      "Help on function func_wrapper in module __main__:\n",
      "\n",
      "func_wrapper(*args, **kwargs)\n",
      "\n"
     ]
    }
   ],
   "source": [
    "help(hantush_jacob)"
   ]
  },
  {
   "cell_type": "code",
   "execution_count": 9,
   "metadata": {},
   "outputs": [
    {
     "name": "stdout",
     "output_type": "stream",
     "text": [
      "hantush_jacob cost time: 0.000000 s\n",
      "[6.2282 5.7965 3.9795 1.8184 0.2193]\n"
     ]
    }
   ],
   "source": [
    "beta = 0.05\n",
    "u = np.array([10**x for x in range(-4, 1)])\n",
    "\n",
    "print(hantush_jacob(u, beta))"
   ]
  },
  {
   "cell_type": "code",
   "execution_count": 10,
   "metadata": {},
   "outputs": [
    {
     "name": "stdout",
     "output_type": "stream",
     "text": [
      "[0.01 0.02 0.03 0.04 0.05]\n",
      "hantush_jacob cost time: 0.000000 s\n",
      "[8.3983 6.2347 4.0167 1.82   0.2193]\n"
     ]
    }
   ],
   "source": [
    "beta = np.array([0.01 * x for x in range(1, 6)])\n",
    "\n",
    "print(beta)\n",
    "\n",
    "u = np.array([10**x for x in range(-4, 1)])\n",
    "\n",
    "print(hantush_jacob(u, beta))"
   ]
  },
  {
   "cell_type": "code",
   "execution_count": 11,
   "metadata": {},
   "outputs": [
    {
     "name": "stdout",
     "output_type": "stream",
     "text": [
      "hantush_jacob cost time: 0.000000 s\n"
     ]
    },
    {
     "data": {
      "text/plain": [
       "1.8485700556019724"
      ]
     },
     "execution_count": 11,
     "metadata": {},
     "output_type": "execute_result"
    }
   ],
   "source": [
    "hantush_jacob(0.01, 0.5)"
   ]
  },
  {
   "cell_type": "markdown",
   "metadata": {},
   "source": [
    "## Neuman 井函数\n",
    "\n",
    "Neuman 井函数计算叫复杂，Cheng, A.H.-D. 的著作中有详细介绍\n",
    "\n",
    "1. Cheng, A.H.-D., Multilayered Aquifer Systems-Fundamentals and Applications, Marcel Dekker, New York/Basel, 384 p., 2000."
   ]
  },
  {
   "cell_type": "markdown",
   "metadata": {},
   "source": [
    "以下代码是计算 Neuman 井函数用到的函数："
   ]
  },
  {
   "cell_type": "code",
   "execution_count": 12,
   "metadata": {},
   "outputs": [],
   "source": [
    "from math import *\n",
    "import numpy as np\n",
    "import scipy.special as sp\n",
    "import time\n",
    "\n",
    "# Modified Bessel function K_0\n",
    "def besselk0(x):\n",
    "    if x <= 2.0:\n",
    "        y = x*x/4.0\n",
    "        besselk0 = (-log(x/2.)*besseli0(x) - 0.57721566 \\\n",
    "                    + y*(0.4227842 + y*(0.23069756 \\\n",
    "                    + y*(0.348859e-1 + y*(0.262698e-2 \\\n",
    "                    + y*(0.1075e-3 + y*0.74e-5))))))\n",
    "    else:\n",
    "        y = (2.0/x)\n",
    "        besselk0 = (exp(-x)/sqrt(x)*(1.25331414 \\\n",
    "                    + y*(-0.7832358e-1 + y*(0.2189568e-1 \\\n",
    "                    + y*(-0.1062446e-1 + y*(0.587872e-2 \\\n",
    "                    + y*(-0.25154e-2 + y*0.53208e-3)))))))\n",
    "    return besselk0\n",
    "\n",
    "# Modified Bessel function K_1\n",
    "def besselk1(x):\n",
    "    if x <= 2.0:\n",
    "        y = x*x/4.0\n",
    "        besselk1 = (log(x/2.)*besseli1(x) \\\n",
    "                    + (1./x)*(1. + y*(0.15443144 + y*(-0.67278579 \\\n",
    "                    + y*(-0.18156897 + y*(-0.1919402e-1 \\\n",
    "                    + y*(-0.110404e-2 + y*(-0.4686e-4))))))))\n",
    "    else:\n",
    "        y = 2.0/x\n",
    "        besselk1 = (exp(-x)/sqrt(x)*(1.25331414 \\\n",
    "                    + y*(0.23498619 + y*(-0.3655620e-1 \\\n",
    "                    + y*(0.1504268e-1 + y*(-0.780353e-2 \\\n",
    "                    + y*(0.325614e-2 + y*(-0.68245e-3))))))))\n",
    "    return besselk1\n",
    "\n",
    "\n",
    "#  Modified Bessel function I_0\n",
    "def besseli0(x):\n",
    "    if x < 3.75:\n",
    "        y = (x/3.75)**2\n",
    "        besseli0 = (1.+ y*(3.5156229 + y*(3.0899424 \\\n",
    "                    + y*(1.2067492 + y*(0.2659732 \\\n",
    "                    + y*(0.360768e-1 + y*0.45813e-2))))))\n",
    "    else:\n",
    "        y = 3.75/x\n",
    "        besseli0 = (exp(x)/sqrt(x)*(0.39894228 \\\n",
    "                    + y*(0.1328592e-1 + y*(0.225319e-2 \\\n",
    "                    + y*(-0.157565e-2 + y*(0.916281e-2 \\\n",
    "                    + y*(-0.2057706e-1 + y*(0.2635537e-1 \\\n",
    "                    + y*(-0.1647633e-1 + y*0.392377e-2)))))))))\n",
    "    return besseli0\n",
    "\n",
    "\n",
    "# Modified Bessel function I_1\n",
    "def besseli1(x):\n",
    "    if x < 3.75:\n",
    "        y = (x/3.75)**2\n",
    "        besseli1 = (x*(0.5e0 + y*(0.87890594 \\\n",
    "                    + y*(0.51498869 + y*(0.15084934 \\\n",
    "                    + y*(0.2658733e-1 + y*(0.301532e-2 \\\n",
    "                    + y*0.32411e-3)))))))\n",
    "    else:\n",
    "        y = 3.75/x\n",
    "        besseli1 = (exp(x)/sqrt(x)*(0.39894228 \\\n",
    "                    + y*(-0.3988024e-1 + y*(-0.362018e-2 \\\n",
    "                    + y*(0.163801e-2 + y*(-0.1031555e-1 \\\n",
    "                    + y*(0.2282967e-1 + y*(-0.2895312e-1 \\\n",
    "                    + y*(0.1787654e-1 + y*(-0.420059e-2))))))))))\n",
    "    return besseli1\n",
    "\n",
    "\n",
    "# Bessel function J_0\n",
    "def besselj0(x):\n",
    "    if abs(x) < 8.:\n",
    "        y = x**2\n",
    "        besselj0 = (\n",
    "            (57568490574.+y*(-13362590354.+y*(651619640.7 +\n",
    "            y*(-11214424.18+y*(77392.33017+y*(-184.9052456)))))) /\n",
    "            (57568490411.+y*(1029532985.+y*(9494680.718+y *\n",
    "            (59272.64853+y*(267.8532712+y)))))\n",
    "        )\n",
    "    else:\n",
    "        ax = abs(x)\n",
    "        z = 8.0/ax\n",
    "        y = z**2\n",
    "        xx = ax-.785398164\n",
    "        besselj0 = (\n",
    "            sqrt(.636619772/ax)*(cos(xx)*(1.+y *\n",
    "            (-.1098628627e-2+y*(.2734510407e-4+y * (-.2073370639e-5 +\n",
    "              y*.2093887211e-6))))-z*sin(xx)*(-.1562499995e-1+y *\n",
    "              (.1430488765e-3+y*(-.6911147651e-5+y*(.7621095161e-6+y\n",
    "            * (-.934945152e-7))))))     )\n",
    "    return besselj0\n",
    "\n",
    "\n",
    "# Bessel function J_1\n",
    "def besselj1(x):\n",
    "    if abs(x) < 8.:\n",
    "        y = x**2\n",
    "        besselj1 = (x*(72362614232. \\\n",
    "                    + y*(-7895059235. + y*(242396853.1 \\\n",
    "                    + y*(-2972611.439 + y*(15704.48260 \\\n",
    "                    + y*(-30.16036606))))))/(144725228442. \\\n",
    "                    + y*(2300535178. + y*(18583304.74 \\\n",
    "                    + y*(99447.43394+y*(376.9991397+y))))))\n",
    "    else:\n",
    "        ax = abs(x)\n",
    "        z = 8.0/ax\n",
    "        y = z**2\n",
    "        xx = ax-2.356194491\n",
    "        besselj1 = (sqrt(.636619772/ax)*(cos(xx)*(1. \\\n",
    "                    + y*(.183105e-2 + y*(-.3516396496e-4 \\\n",
    "                    + y*(.2457520174e-5 + y*(-.240337019e-6))))) \\\n",
    "                    - z*sin(xx)*(.04687499995 + y*(-.2002690873e-3 \\\n",
    "                    + y*(.8449199096e-5 + y*(-.88228987e-6 \\\n",
    "                    + y*.105787412e-6)))))*np.sign(complex(1.0, x)).real)\n",
    "    return besselj1\n",
    "\n",
    "\n",
    "# Find a root of BesselK0 near rstart by Newton-Raphson method\n",
    "def bj0root(rstart):\n",
    "    xacc = 1.0e-8\n",
    "    bj0root = rstart\n",
    "    for j in range(100):\n",
    "        dx = -besselj0(bj0root) / besselj1(bj0root)\n",
    "        bj0root = bj0root - dx\n",
    "        if abs(dx) < xacc:\n",
    "            break\n",
    "    return bj0root\n",
    "\n",
    "\n",
    "# Calculate Gaussian quadrature nodes and weights\n",
    "# Source: Numerical Recipes, Press, et al. 1992\n",
    "\n",
    "def gauleg(x1, x2, n):\n",
    "    x, w = np.polynomial.legendre.leggauss(n)\n",
    "    xm = 0.5*(x2 + x1)\n",
    "    xl = 0.5*(x2 - x1)\n",
    "\n",
    "    return xm + xl*x[:], xl*w[:]\n",
    "\n",
    "\n",
    "# Extrapolate a series by epsilon algorithm\n",
    "def epsilonn(n, psum):\n",
    "    eps = np.zeros((202, 201))\n",
    "\n",
    "    for m in range(n + 1):\n",
    "        eps[0, m] = psum[m]\n",
    "    for i in range(1, n + 1):\n",
    "        for m in range(n - i, -1, -1):\n",
    "            eps[i, m] = eps[i - 2, m + 1] + 1.0 / \\\n",
    "                (eps[i - 1, m + 1] - eps[i - 1, m])\n",
    "\n",
    "    return eps[n, 0]\n",
    "\n",
    "\n",
    "def func(u, gamma, x, ncase):\n",
    "    if ncase == 1:\n",
    "        func = 64.0*x*besselj0(x*np.sqrt(gamma))*summ(x, u, gamma, ncase)\n",
    "    if ncase == 2:\n",
    "        func = (4.0*x*besselj0(x*np.sqrt(gamma))*((1.0 \\\n",
    "                - np.exp(-gamma*x*np.tanh(x)/(4.0*u)))*np.tanh(x)/(2.0*x**3) \\\n",
    "                + summ(x, u, gamma, ncase)))\n",
    "\n",
    "    return func\n",
    "\n",
    "def summ(x, u, gamma, ncase):\n",
    "    nsum = 12\n",
    "    psum = np.zeros(201)\n",
    "\n",
    "    for m in range(1, nsum + 1):\n",
    "        a = 4.0*x**2 + (2.0*m - 1.0)**2*np.pi**2\n",
    "        denom = (2.0*m - 1.0)**2*np.pi**2*a\n",
    "        if ncase == 1:\n",
    "            dsum = (1 - np.exp(-gamma/16.0/u*a))/denom\n",
    "        if ncase == 2:\n",
    "            dsum = 16.0/denom\n",
    "        psum[m] = psum[m - 1] + dsum\n",
    "\n",
    "#    return  epsilonn(nsum, psum)\n",
    "    return psum[nsum]\n",
    "\n",
    "\n",
    "# Neuman's type A and B unconfined aquifer well function\n",
    "\n",
    "def neumanw(u, gamma, ncase):\n",
    "    r = np.zeros(201)\n",
    "\n",
    "    # Define integration ranges using even roots of J0\n",
    "    nr = 200\n",
    "    r[0] = 0.0\n",
    "    r[1] = 5.520078110080565\n",
    "\n",
    "    for i in range(2, nr+1):\n",
    "        r[i] = bj0root(r[i - 1] + 2*np.pi)\n",
    "\n",
    "    ng = 30\n",
    "    x = np.zeros(30)\n",
    "    w = np.zeros(30)\n",
    "    wsum = np.zeros(201)\n",
    "    gammasq = np.sqrt(gamma)\n",
    "    wsum[0] = 0.0\n",
    "\n",
    "    # Integrate by subintervals\n",
    "    for j in range(1, nr+1):\n",
    "        x, w = gauleg(r[j - 1] / gammasq, r[j] / gammasq, ng)\n",
    "        dwf = 0.0\n",
    "\n",
    "        # Perform Gaussian quadrature\n",
    "        for i in range(ng):\n",
    "            dwf = dwf + w[i] * func(u, gamma, x[i], ncase)\n",
    "\n",
    "        wsum[j] = wsum[j - 1] + dwf\n",
    "\n",
    "    # Use epsilon algorithm to extrapolate\n",
    "    return epsilonn(nr, wsum)"
   ]
  },
  {
   "cell_type": "markdown",
   "metadata": {},
   "source": [
    "**定义 Neuman 井函数** "
   ]
  },
  {
   "cell_type": "code",
   "execution_count": 13,
   "metadata": {},
   "outputs": [],
   "source": [
    "@timer\n",
    "def Neumann(ua, uy, gamma):\n",
    "    n = len(gamma)\n",
    "\n",
    "    m = len(ua)\n",
    "    value = np.zeros((m, n))\n",
    "    for i in range(m):\n",
    "        for j in range(n):\n",
    "            value[i, j] = neumanw(ua[i], gamma[j], 1)\n",
    "\n",
    "    np.savetxt(\"w_ua1.csv\", value, delimiter=\",\")\n",
    "\n",
    "    m = len(uy)\n",
    "    value = np.zeros((m, n))\n",
    "\n",
    "    for i in range(m):\n",
    "        for j in range(n):\n",
    "            value[i, j] = neumanw(uy[i], gamma[j], 2)\n",
    "\n",
    "    np.savetxt(\"w_uy1.csv\", value, delimiter=\",\")\n",
    "\n",
    "    return \"Data has been written to file: w_ua.csv and w_uy.csv.\""
   ]
  },
  {
   "cell_type": "markdown",
   "metadata": {},
   "source": [
    "根据 ua, uy, gamma 计算井函数，并将结果保存到 csv 文件"
   ]
  },
  {
   "cell_type": "code",
   "execution_count": 14,
   "metadata": {},
   "outputs": [
    {
     "name": "stdout",
     "output_type": "stream",
     "text": [
      "Neumann cost time: 176.692389 s\n"
     ]
    },
    {
     "data": {
      "text/plain": [
       "'Data has been written to file: w_ua.csv and w_uy.csv.'"
      ]
     },
     "execution_count": 14,
     "metadata": {},
     "output_type": "execute_result"
    }
   ],
   "source": [
    "ua = np.array([\n",
    "    2.50E+00, 1.25E+00, 7.14E-01, 4.17E-01, 2.50E-01,\n",
    "    1.25E-01, 7.14E-02, 4.17E-02, 2.50E-02, 1.25E-02,\n",
    "    7.14E-03, 4.17E-03, 2.50E-03, 1.25E-03, 7.14E-04,\n",
    "    4.17E-04, 2.50E-04, 1.25E-04, 7.14E-05, 4.17E-05])\n",
    "\n",
    "uy = np.array([\n",
    "    2.50E+03, 1.25E+03, 7.14E+02, 4.17E+02, 2.50E+02,\n",
    "    1.25E+02, 7.14E+01, 4.17E+01, 2.50E+01, 1.25E+01,\n",
    "    7.14E+00, 4.17E+00, 2.50E+00, 1.25E+00, 7.14E-01,\n",
    "    4.17E-01, 2.50E-01, 1.25E-01, 7.14E-02, 4.17E-02,\n",
    "    2.50E-02, 1.25E-02, 7.14E-03, 4.17E-03, 2.50E-03])\n",
    "\n",
    "gamma = np.array([0.001, 0.004, 0.010, 0.030, 0.060,\n",
    "                  0.100, 0.200, 0.400, 0.600, 0.800,\n",
    "                  1.000, 1.500, 2.000, 2.500, 3.000,\n",
    "                  4.000, 5.000, 6.000, 7.000])\n",
    "\n",
    "Neumann(ua, uy, gamma)"
   ]
  },
  {
   "cell_type": "markdown",
   "metadata": {},
   "source": [
    "可以看出，计算一张井函数表用时还是较长的（429.6 s）。可以考虑用 `numba` 加速（参见 “neuman-numba.ipynb”），速度提高到（87.3 s）"
   ]
  },
  {
   "cell_type": "code",
   "execution_count": null,
   "metadata": {},
   "outputs": [],
   "source": []
  }
 ],
 "metadata": {
  "jupytext": {
   "formats": "ipynb,md"
  },
  "kernelspec": {
   "display_name": "Python 3 (ipykernel)",
   "language": "python",
   "name": "python3"
  },
  "language_info": {
   "codemirror_mode": {
    "name": "ipython",
    "version": 3
   },
   "file_extension": ".py",
   "mimetype": "text/x-python",
   "name": "python",
   "nbconvert_exporter": "python",
   "pygments_lexer": "ipython3",
   "version": "3.11.5"
  },
  "vscode": {
   "interpreter": {
    "hash": "431e637af3657b8bc74f39cb48d657976124d63619dcb5745d4d6c4d18bbc04f"
   }
  },
  "widgets": {
   "application/vnd.jupyter.widget-state+json": {
    "state": {},
    "version_major": 2,
    "version_minor": 0
   }
  }
 },
 "nbformat": 4,
 "nbformat_minor": 4
}
