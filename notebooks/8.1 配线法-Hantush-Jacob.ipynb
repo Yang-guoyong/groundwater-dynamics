{
 "cells": [
  {
   "cell_type": "markdown",
   "metadata": {},
   "source": [
    "# Hantush-Jacob 配线法"
   ]
  },
  {
   "cell_type": "markdown",
   "metadata": {},
   "source": [
    "对\n",
    "\n",
    "$$\n",
    "s\\cdot\\frac{4\\pi T}{Q}=W\\left(u,\\frac{r}{B}\\right),\\quad t\\cdot\\frac{4T}{r^2S}=\\frac{1}{u}\n",
    "$$\n",
    "\n",
    "两边取对数\n",
    "\n",
    "$$\n",
    "\\lg s + \\lg\\frac{4\\pi T}{Q}= \\lg W\\left(u,\\frac{r}{B}\\right),\\quad\\lg t+\\lg\\frac{4T}{r^2S}=\\lg\\frac{1}{u}\n",
    "$$"
   ]
  },
  {
   "cell_type": "markdown",
   "metadata": {},
   "source": [
    "**思路：**\n",
    "\n",
    "在标准曲线坐标系中移动 $s\\sim t$ 散点图，根据平移量计算 $(T,S,\\beta)$ ：\n",
    "\n",
    "记坐标平移量为 \n",
    "\n",
    "$$\\Delta \\lg(s)=\\lg\\frac{4\\pi T}{Q},\\quad \\Delta \\lg(t)=\\lg\\frac{4T}{r^2S}$$\n",
    "\n",
    "$\\beta$ 通过输入确定。\n",
    "\n",
    "**参数计算公式：**\n",
    "\n",
    "$$\n",
    "T=\\frac{Q}{4\\pi}10^{\\Delta\\lg(s)},\\quad S=\\frac{4T}{r^2}10^{-\\Delta\\lg(t)}\n",
    "$$"
   ]
  },
  {
   "cell_type": "markdown",
   "metadata": {},
   "source": [
    "**例：作业6**\n",
    "\n",
    "对某承压含水层抽水孔进行12h的定流量非稳定流抽水，抽水量为 $528m^3/d$，距抽水孔 90m  处有一观测孔，观测数据如下表 4，试确定水文地质参数（直线图解）。\n",
    "\n",
    "<center> 表 4 承压含水层抽水试验观测数据\n",
    "\n",
    "| 序号 | 时间(min) | 降深(cm) | 序号 | 时间(min) | 降深(cm) |\n",
    "| :--: | :-------: | :------: | :--: | :-------: | :------: |\n",
    "|  1   |     1     |   2.5    |  9   |    50     |   24.7   |\n",
    "|  2   |     2     |   3.9    |  10  |    60     |   26.4   |\n",
    "|  3   |     4     |   6.1    |  11  |    90     |   30.4   |\n",
    "|  4   |     6     |   8.0    |  12  |    120    |   33.0   |\n",
    "|  5   |     9     |   10.6   |  13  |    150    |   35.0   |\n",
    "|  6   |    20     |   16.8   |  14  |    360    |   42.6   |\n",
    "|  7   |    30     |   20.0   |  16  |    550    |   44.0   |\n",
    "|  8   |    40     |   22.6   |  16  |    720    |   44.5   |"
   ]
  },
  {
   "cell_type": "code",
   "execution_count": 1,
   "metadata": {},
   "outputs": [],
   "source": [
    "%matplotlib inline\n",
    "\n",
    "import numpy as np\n",
    "import matplotlib.pyplot as plt\n",
    "import ipywidgets as widgets\n",
    "import math as math\n",
    "from wellfunction import *\n",
    "\n",
    "# 控制小数的显示精度\n",
    "np.set_printoptions(precision=4)\n",
    "\n",
    "plt.rcParams['axes.unicode_minus']=False  #用来正常显示负号"
   ]
  },
  {
   "cell_type": "code",
   "execution_count": 2,
   "metadata": {
    "code_folding": [
     0
    ]
   },
   "outputs": [],
   "source": [
    "# 准备数据, 根据配线法的种类，需要专门准备数据\n",
    "Q = 528/1440  # m^3/min\n",
    "r = 90 # m\n",
    "t = np.array([1, 2, 4, 6, 9, 20, 30, 40, 50, 60, 90, 120, 150, 360, 550, 720]) # min\n",
    "s = np.array([2.5, 3.9, 6.1, 8.0, 10.6, 16.8, 20.0, 22.6, 24.7, 26.4, 30.4, 33.0, 35.0, 42.6, 44.0, 44.5])/100 # m\n",
    "\n",
    "ymin = 1.0e-2\n",
    "ymax = 10.0\n",
    "\n",
    "xmin = 1.0e-1\n",
    "xmax = 1.0e4\n",
    "\n",
    "x = np.linspace(-1, 4, 51)\n",
    "x = np.float_power(10,x)\n",
    "\n",
    "# 初始参数\n",
    "T = Q/4/np.pi  # 配线法不同，公式也不一样\n",
    "S = 4*T/r**2   # 配线法不同，公式也不一样\n",
    "B = -999.0"
   ]
  },
  {
   "cell_type": "code",
   "execution_count": 3,
   "metadata": {
    "code_folding": [
     0,
     1
    ]
   },
   "outputs": [],
   "source": [
    "# Plot the data\n",
    "def Hantush_Jacob_fit(dlogs, dlogt, beta):\n",
    "    global T, S, B # 设置全局变量，值可以穿透程序\n",
    "    \n",
    "    plt.style.use('default')\n",
    "    fig, ax = plt.subplots()\n",
    "    ax.set_xlim(xmin, xmax)\n",
    "    ax.set_ylim(ymin, ymax)\n",
    "    ax.set_xscale(\"log\")\n",
    "    ax.set_yscale(\"log\")\n",
    "    ax.set_aspect(1)\n",
    "    plt.xlabel('$\\log 1/u$')\n",
    "    plt.ylabel('$W(u)$')\n",
    "    ax.grid(True)\n",
    "    \n",
    "    T = Q/4/np.pi*np.float_power(10, dlogs)  # 配线法不同，公式也不一样\n",
    "    S = 4*T/r**2*np.float_power(10, -dlogt)  # 配线法不同，公式也不一样\n",
    "    u = r**2*S/4/T/x\n",
    "    u0 = r**2*S/4/T/t\n",
    "    ax.plot(x, hantush_jacob(u, beta),label=\"Hantush-Jacob曲线\")\n",
    "    ax.plot(x, theis(u),label=\"Theis曲线\")\n",
    "    ax.plot(t*np.float_power(10, dlogt), s*np.float_power(10, dlogs), '*', label=\"观测值\")\n",
    "    \n",
    "    plt.legend(\n",
    "        prop={'family': 'Simsun', 'size': 10}, handlelength=2,\n",
    "        title=\"图例\",\n",
    "        title_fontproperties={'family': 'KaiTi', 'size': 12})\n",
    "    ax.set_title(\"配线法\", fontproperties={'family': 'KaiTi', 'size': 12}) # 指定显示中文字体\n",
    "\n",
    "    plt.show()\n",
    "\n",
    "    RSS = np.sum((hantush_jacob(u0, beta) - s)**2)\n",
    "\n",
    "    print('             T(m^2/min): ', '{:.4f}'.format(T))\n",
    "    print('                      S: ', '{:.4e}'.format(S))\n",
    "    if beta>0 :\n",
    "        print('                      B: ', '{:.4e}'.format(r/beta))\n",
    "    print('Residual Sum of Squares: ', '{:.4e}'.format(RSS))"
   ]
  },
  {
   "cell_type": "code",
   "execution_count": 4,
   "metadata": {
    "code_folding": [
     0
    ]
   },
   "outputs": [
    {
     "data": {
      "application/vnd.jupyter.widget-view+json": {
       "model_id": "422310a0c0db4f6bb30098b605bd1b1c",
       "version_major": 2,
       "version_minor": 0
      },
      "text/plain": [
       "interactive(children=(FloatSlider(value=0.0, continuous_update=False, description='$\\\\Delta\\\\lg s$ [-]:', max=…"
      ]
     },
     "metadata": {},
     "output_type": "display_data"
    }
   ],
   "source": [
    "# ipywidgets 小部件控制参数, ipywidgets 有缓冲功能，同一个 Notebook 复制的代码得不到所期望的结果\n",
    "widgets.interact(\n",
    "    Hantush_Jacob_fit,\n",
    "    dlogs = widgets.FloatSlider(\n",
    "        value=0, min=-3.0, max=+3.0, step=0.01,\n",
    "        description=r\"$\\Delta\\lg s$ [-]:\", continuous_update=False,\n",
    "        readout_format='.2f', disabled=False),\n",
    "    dlogt = widgets.FloatSlider(\n",
    "        value=0, min=-5.0, max=+5.0, step=0.01,\n",
    "        description=r'$\\Delta\\lg t$ [-]:', continuous_update=False,\n",
    "        readout_format='.2f', disabled=False),\n",
    "    beta = widgets.FloatSlider(\n",
    "        value=0, min=0.0, max=+3.0, step=0.01,\n",
    "        description=r'$\\beta$ [-]:', continuous_update=False,\n",
    "        readout_format='.2f', disabled=False),\n",
    "    );   "
   ]
  },
  {
   "cell_type": "markdown",
   "metadata": {},
   "source": [
    "**例：**\n",
    "\n",
    "某河阶地，上部为潜水层，其下为 $2m$ 厚弱透水的亚砂土，再下为 $1.5m$ 厚的中、粗砂层(承压)。水源地抽取承压水，以 T32 号孔做非稳定抽水试验，距它 $197m$ 处有 T31 孔观恻，抽水量为 $Q=69.1m^3/h$，观测孔水位降深值如下表，求取水文地质参数。\n",
    "\n",
    "<center> 表  某越流含水层抽水试验T31观测孔降深资料\n",
    "\n",
    "| 抽水累计时间 $t(min)$ | 水位降深 $s(m)$ | 抽水累计时间 $t(min)$ | 水位降深 $s(m)$ | 抽水累计时间 $t(min)$ | 水位降深 $s(m)$ |\n",
    "| :-------------------: | :-------------: | :-------------------: | :-------------: | :-------------------: | :-------------: |\n",
    "|           1           |      0.05       |          60           |      0.575      |          300          |      0.763      |\n",
    "|           4           |      0.054      |          75           |      0.62       |          330          |      0.77       |\n",
    "|           7           |      0.12       |          90           |      0.64       |          360          |      0.77       |\n",
    "|          10           |      0.175      |          120          |      0.685      |          390          |      0.785      |\n",
    "|          15           |      0.26       |          150          |      0.725      |          420          |      0.79       |\n",
    "|          20           |      0.33       |          180          |      0.735      |          450          |      0.792      |\n",
    "|          25           |      0.383      |          210          |      0.755      |          480          |      0.794      |\n",
    "|          30           |      0.425      |          240          |      0.76       |          510          |      0.795      |\n",
    "|          45           |      0.52       |          270          |      0.76       |          540          |      0.796      |\n"
   ]
  },
  {
   "cell_type": "code",
   "execution_count": null,
   "metadata": {},
   "outputs": [],
   "source": []
  }
 ],
 "metadata": {
  "anaconda-cloud": {},
  "jupytext": {
   "formats": "ipynb,md"
  },
  "kernelspec": {
   "display_name": "Python 3 (ipykernel)",
   "language": "python",
   "name": "python3"
  },
  "language_info": {
   "codemirror_mode": {
    "name": "ipython",
    "version": 3
   },
   "file_extension": ".py",
   "mimetype": "text/x-python",
   "name": "python",
   "nbconvert_exporter": "python",
   "pygments_lexer": "ipython3",
   "version": "3.11.5"
  },
  "vscode": {
   "interpreter": {
    "hash": "c41e90ca6dc8fc9be18f6e880c133a1684fce42d481af8d25c84006c401cfc70"
   }
  },
  "widgets": {
   "application/vnd.jupyter.widget-state+json": {
    "state": {
     "0928c7cd855c4332931187c28e456640": {
      "model_module": "@jupyter-widgets/controls",
      "model_module_version": "2.0.0",
      "model_name": "FloatSliderModel",
      "state": {
       "behavior": "drag-tap",
       "continuous_update": false,
       "description": "$\\Delta\\lg s$ [-]:",
       "layout": "IPY_MODEL_56796208aa3a42318f6a131c37578753",
       "max": 3,
       "min": -3,
       "step": 0.01,
       "style": "IPY_MODEL_b8a9255249a04fd0bfa79b9bb4652621",
       "value": 1.04
      }
     },
     "18bf81370f284a18a42fd689374c7e86": {
      "model_module": "@jupyter-widgets/controls",
      "model_module_version": "2.0.0",
      "model_name": "SliderStyleModel",
      "state": {
       "description_width": ""
      }
     },
     "195d70ce4f0c43ff974700de945854eb": {
      "model_module": "@jupyter-widgets/base",
      "model_module_version": "2.0.0",
      "model_name": "LayoutModel",
      "state": {}
     },
     "2899d64f84ae434eb35ebb70b7f7e542": {
      "model_module": "@jupyter-widgets/controls",
      "model_module_version": "2.0.0",
      "model_name": "FloatSliderModel",
      "state": {
       "behavior": "drag-tap",
       "continuous_update": false,
       "description": "$\\Delta\\lg t$ [-]:",
       "layout": "IPY_MODEL_195d70ce4f0c43ff974700de945854eb",
       "max": 5,
       "min": -5,
       "step": 0.01,
       "style": "IPY_MODEL_18bf81370f284a18a42fd689374c7e86",
       "value": -0.1299999999999999
      }
     },
     "422310a0c0db4f6bb30098b605bd1b1c": {
      "model_module": "@jupyter-widgets/controls",
      "model_module_version": "2.0.0",
      "model_name": "VBoxModel",
      "state": {
       "_dom_classes": [
        "widget-interact"
       ],
       "children": [
        "IPY_MODEL_0928c7cd855c4332931187c28e456640",
        "IPY_MODEL_2899d64f84ae434eb35ebb70b7f7e542",
        "IPY_MODEL_afc9aeac07314dfdb8ac8e59d53cea2e",
        "IPY_MODEL_496804dcf2a74bb9bd2126281fbe24a4"
       ],
       "layout": "IPY_MODEL_4fe7a2c5ecee46ae9596f6f06751e78d"
      }
     },
     "496804dcf2a74bb9bd2126281fbe24a4": {
      "model_module": "@jupyter-widgets/output",
      "model_module_version": "1.0.0",
      "model_name": "OutputModel",
      "state": {
       "layout": "IPY_MODEL_e98f08150abd4dfdb70b623f99e9e135",
       "outputs": [
        {
         "data": {
          "image/png": "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",
          "text/plain": "<Figure size 640x480 with 1 Axes>"
         },
         "metadata": {},
         "output_type": "display_data"
        },
        {
         "name": "stdout",
         "output_type": "stream",
         "text": "             T(m^2/min):  0.3199\n                      S:  2.1313e-04\n                      B:  1.2857e+03\nResidual Sum of Squares:  1.3377e+02\n"
        }
       ]
      }
     },
     "4fe7a2c5ecee46ae9596f6f06751e78d": {
      "model_module": "@jupyter-widgets/base",
      "model_module_version": "2.0.0",
      "model_name": "LayoutModel",
      "state": {}
     },
     "56796208aa3a42318f6a131c37578753": {
      "model_module": "@jupyter-widgets/base",
      "model_module_version": "2.0.0",
      "model_name": "LayoutModel",
      "state": {}
     },
     "9b7218232be045f6afdc3fddadbeb692": {
      "model_module": "@jupyter-widgets/controls",
      "model_module_version": "2.0.0",
      "model_name": "SliderStyleModel",
      "state": {
       "description_width": ""
      }
     },
     "afc9aeac07314dfdb8ac8e59d53cea2e": {
      "model_module": "@jupyter-widgets/controls",
      "model_module_version": "2.0.0",
      "model_name": "FloatSliderModel",
      "state": {
       "behavior": "drag-tap",
       "continuous_update": false,
       "description": "$\\beta$ [-]:",
       "layout": "IPY_MODEL_d00d03fb3e464cde925339f81d0fe6d9",
       "max": 3,
       "step": 0.01,
       "style": "IPY_MODEL_9b7218232be045f6afdc3fddadbeb692",
       "value": 0.06999999999999999
      }
     },
     "b8a9255249a04fd0bfa79b9bb4652621": {
      "model_module": "@jupyter-widgets/controls",
      "model_module_version": "2.0.0",
      "model_name": "SliderStyleModel",
      "state": {
       "description_width": ""
      }
     },
     "d00d03fb3e464cde925339f81d0fe6d9": {
      "model_module": "@jupyter-widgets/base",
      "model_module_version": "2.0.0",
      "model_name": "LayoutModel",
      "state": {}
     },
     "e98f08150abd4dfdb70b623f99e9e135": {
      "model_module": "@jupyter-widgets/base",
      "model_module_version": "2.0.0",
      "model_name": "LayoutModel",
      "state": {}
     }
    },
    "version_major": 2,
    "version_minor": 0
   }
  }
 },
 "nbformat": 4,
 "nbformat_minor": 4
}
