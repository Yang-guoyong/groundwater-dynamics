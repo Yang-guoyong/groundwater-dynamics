{
 "cells": [
  {
   "cell_type": "markdown",
   "metadata": {},
   "source": [
    "# 实验一、单井稳定流求参"
   ]
  },
  {
   "cell_type": "markdown",
   "metadata": {},
   "source": [
    "## 影响半径经验公式\n",
    "\n",
    "吉哈尔特（承压水）：\n",
    "\n",
    "$$\n",
    "R =10 s_w \\sqrt{K}\n",
    "$$\n",
    "\n",
    "库萨金（潜水）：\n",
    "\n",
    "$$\n",
    "R =2 s_w \\sqrt{KH_0}\n",
    "$$\n",
    "\n",
    "式中，$K$ — 渗透系数，$m/d$；$s$ — 设计降深，$m$；$H_0$  — 自底板算起的含水层静止水位（厚度），$m$。\n",
    "\n",
    "单孔抽水时可构造迭代公式计算 $K$ 及 $R$：\n",
    "\n",
    "承压井：\n",
    "\n",
    "$$\n",
    "\\left\\{\n",
    "  \\begin{array}{rl}\n",
    "  K&=\\frac{Q}{2\\pi Ms_w}\\ln\\frac{R}{r_w} \\\\\n",
    "  R&=10s_w\\sqrt{K}\\\\\n",
    "  \\end{array}\n",
    " \\right.\n",
    "$$\n",
    "\n",
    "潜水井：\n",
    "\n",
    "$$\n",
    "\\left\\{\\begin{array}{rl}\n",
    "K&=\\frac{Q}{\\pi (2H_0-s_w)s_w}\\ln\\frac{R}{r_w}\\\\\n",
    "R&=2s_w\\sqrt{KH_0}\\\\\n",
    "\\end{array}\\right.\n",
    "$$"
   ]
  },
  {
   "cell_type": "markdown",
   "metadata": {},
   "source": [
    "## 程序设计\n",
    "\n",
    "推荐使用 NumPy 库。NumPy 是一个开放源代码的 Python 库，在科学和工程学的每个领域中都有应用，为 Python 的通用标准库。 NumPy API 已在 Pandas，SciPy，Matplotlib，scikit-learn，scikit-image 等软件包中广泛使用。NumPy 库包含多维数组和矩阵数据结构，其中的 ndarray 为齐次 n 维数组对象。NumPy可以对数组和矩阵进行高效计算，并且提供了庞大的高级数学函数库。\n",
    "\n",
    "NumPy 进行数组运算非常有效，其中的 numpy.vectorize 将自定义的函数向量化，可以接受向量参数，并以向量返回结果，处理向量非常方便；numpy.array 将 Python 列表转化为 NumPy 数组；numpy.ones、numpy.zeros 用于构造元素为 1 或 0 的数组。常用的数学函数在 NumPy 中都有对应的形式，如 numpy.sin 、numpy.abs 、numpy.exp 等。\n",
    "\n",
    "NumPy 库使用前需要导入："
   ]
  },
  {
   "cell_type": "code",
   "execution_count": 1,
   "metadata": {},
   "outputs": [],
   "source": [
    "import numpy as np\n",
    "# 设置浮点数显示方式\n",
    "np.set_printoptions(precision=4)"
   ]
  },
  {
   "cell_type": "markdown",
   "metadata": {},
   "source": [
    "以承压水影响半径的经验公式为例，定义一个子程序 empirical，通过循环迭代，当两次计算结果差值绝对值小于误差限时终止计算。"
   ]
  },
  {
   "cell_type": "code",
   "execution_count": 2,
   "metadata": {},
   "outputs": [],
   "source": [
    "def empirical(rw, M, Q, sw):\n",
    "    K0 = 10\n",
    "    R0 = 10*sw*np.sqrt(K0)\n",
    "    while True:\n",
    "        R = 10*sw*np.sqrt(K0)\n",
    "        K = 0.5*Q*np.log(R/rw)/M/sw/np.pi\n",
    "        if np.abs(R - R0) < 1.0e-8 and np.abs(K - K0) < 1.0e-6:\n",
    "            break\n",
    "        else:\n",
    "            K0 = K\n",
    "            R0 = R\n",
    "    return K, R"
   ]
  },
  {
   "cell_type": "markdown",
   "metadata": {},
   "source": [
    "用一次抽水试验数据计算："
   ]
  },
  {
   "cell_type": "code",
   "execution_count": 3,
   "metadata": {},
   "outputs": [
    {
     "name": "stdout",
     "output_type": "stream",
     "text": [
      "  K = 12.3221 m^2/d\n",
      "  R = 40.7192 m\n"
     ]
    }
   ],
   "source": [
    "rw = 0.4    # 井半径\n",
    "M = 16.5    # 含水层厚度\n",
    "Q = 320.54  # 抽水量\n",
    "s = 1.16    # 降深值\n",
    "\n",
    "K, R =empirical(rw, M, Q, s)\n",
    "\n",
    "print('  K = {:.4f} m^2/d'.format(K))\n",
    "print('  R = {:.4f} m'.format(R))"
   ]
  },
  {
   "cell_type": "markdown",
   "metadata": {},
   "source": [
    "计算多次抽水试验数据，向量化函数非常方便："
   ]
  },
  {
   "cell_type": "code",
   "execution_count": 4,
   "metadata": {},
   "outputs": [
    {
     "name": "stdout",
     "output_type": "stream",
     "text": [
      "  K = [12.3221 12.5963 14.1221] m^2/d\n",
      "  R = [40.7192 56.786  71.4009] m\n"
     ]
    }
   ],
   "source": [
    "vempirical= np.vectorize(empirical) # 将 empirical 函数向量化\n",
    "\n",
    "rw = np.ones(3)*0.4  # 井半径向量\n",
    "M = np.ones(3)*16.5  # 含水层厚度向量\n",
    "Q = np.array([320.54, 421.63, 536.54])  # 抽水量向量\n",
    "s = np.array([1.16, 1.60, 1.90])        # 降深值向量\n",
    "\n",
    "K, R = vempirical(rw, M, Q, s)\n",
    "\n",
    "print('  K = {} m^2/d'.format(K))\n",
    "print('  R = {} m'.format(R))"
   ]
  },
  {
   "cell_type": "code",
   "execution_count": null,
   "metadata": {},
   "outputs": [],
   "source": []
  }
 ],
 "metadata": {
  "jupytext": {
   "formats": "ipynb,md"
  },
  "kernelspec": {
   "display_name": "Python 3 (ipykernel)",
   "language": "python",
   "name": "python3"
  },
  "language_info": {
   "codemirror_mode": {
    "name": "ipython",
    "version": 3
   },
   "file_extension": ".py",
   "mimetype": "text/x-python",
   "name": "python",
   "nbconvert_exporter": "python",
   "pygments_lexer": "ipython3",
   "version": "3.11.5"
  },
  "widgets": {
   "application/vnd.jupyter.widget-state+json": {
    "state": {},
    "version_major": 2,
    "version_minor": 0
   }
  }
 },
 "nbformat": 4,
 "nbformat_minor": 4
}
