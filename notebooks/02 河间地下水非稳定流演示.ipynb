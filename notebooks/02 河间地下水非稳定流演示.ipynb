{
 "cells": [
  {
   "cell_type": "markdown",
   "metadata": {
    "editable": true,
    "slideshow": {
     "slide_type": ""
    },
    "tags": []
   },
   "source": [
    "# 河间地下水非稳定流演示"
   ]
  },
  {
   "cell_type": "markdown",
   "metadata": {
    "editable": true,
    "slideshow": {
     "slide_type": ""
    },
    "tags": []
   },
   "source": [
    "## 承压水"
   ]
  },
  {
   "cell_type": "markdown",
   "metadata": {
    "editable": true,
    "slideshow": {
     "slide_type": ""
    },
    "tags": []
   },
   "source": [
    "**数学模型**\n",
    "\n",
    "$$\n",
    "\\left\\{\n",
    "\\begin{array}{l}\n",
    "a\\frac{\\partial^2H}{\\partial x^2}=\\frac{\\partial H}{\\partial t}\\\\\n",
    "H(x,0)=h_0\\\\\n",
    "H(0,t)=h_{0t} \\\\\n",
    "H(L,t)=h_{Lt}\n",
    "\\end{array}\n",
    "\\right.\n",
    "$$\n",
    "\n",
    "\n",
    "式中，$a=T/S$."
   ]
  },
  {
   "attachments": {},
   "cell_type": "markdown",
   "metadata": {},
   "source": [
    "记 $\\Delta{h_0}=h_{0t}-h_0$，$\\Delta{h_L}=h_{Lt}-h_0$，$\\bar{x}=\\frac{x}{l}$，$\\bar{t}=\\frac{at}{l^2}$。\n",
    "\n",
    "**河渠水位**\n",
    "\n",
    "$$\n",
    "H(x,t)-h_0=\\Delta h_0F(\\bar{x},\\bar{t})+\\Delta h_LF'(\\bar{x},\\bar{t})\n",
    "$$\n",
    "\n",
    "式中\n",
    "\n",
    "$$\n",
    "\\begin{array}{rl}\n",
    "F(\\bar{x},\\bar{t})&=1-\\bar{x}-\n",
    "  \\frac{2}{\\pi}\\sum\\limits_{n=1}^\\infty \\frac{1}{n} \\sin(\n",
    "  n\\pi \\bar{x})\\mathrm{e}^{-(n\\pi)^2\\bar{t}} \\\\\n",
    "F'(\\bar{x},\\bar{t}) &=\\bar{x}-\\frac{2}{\\pi}\\sum\\limits_{n=1}^\\infty \\frac{(-1)^{n+1}}{n} \\sin(\n",
    "  n\\pi \\bar{x})\\mathrm{e}^{-(n\\pi)^2\\bar{t}}\n",
    "\\end{array}\n",
    "$$\n",
    "\n",
    "$F(\\bar{x},\\bar{t})$ 为河渠水位函数，$F'(\\bar{x},\\bar{t})$ 为河渠水位余函数，且 $F'(\\bar{x},\\bar{t})=F(1-\\bar{x},\\bar{t})$\n"
   ]
  },
  {
   "cell_type": "markdown",
   "metadata": {},
   "source": [
    "**计算河渠水位的函数**"
   ]
  },
  {
   "cell_type": "code",
   "execution_count": 1,
   "metadata": {},
   "outputs": [],
   "source": [
    "import numpy as np\n",
    "\n",
    "np.set_printoptions(precision=4)\n",
    "\n",
    "# 河渠水位函数\n",
    "def river_head(t, x, nmax):\n",
    "    if t <=0:\n",
    "        f = 0.0\n",
    "    else:\n",
    "        f = 1.0 - x\n",
    "        for n in range(1, nmax + 1):\n",
    "            alpha = n * np.pi\n",
    "            term = -2.0 * np.sin(alpha*x) * np.exp(-t*alpha**2) / alpha\n",
    "            f = f + term\n",
    "    return f\n",
    "\n",
    "# 将函数向量化\n",
    "river_head = np.vectorize(river_head)"
   ]
  },
  {
   "cell_type": "markdown",
   "metadata": {},
   "source": [
    ">\n",
    "> 问题：计算水位函数与流量函数，取前几项和可满足精度要求？\n",
    ">"
   ]
  },
  {
   "cell_type": "code",
   "execution_count": 2,
   "metadata": {},
   "outputs": [
    {
     "name": "stdout",
     "output_type": "stream",
     "text": [
      "水位 (t = 0.4, nmax = 20):\n",
      "[ 1.0000e+00  8.9620e-01  7.9278e-01  6.9006e-01  5.8832e-01  4.8772e-01\n",
      "  3.8832e-01  2.9006e-01  1.9278e-01  9.6204e-02 -1.5044e-18]\n",
      "水位 (t = 0.4, nmax = 50):\n",
      "[ 1.0000e+00  8.9620e-01  7.9278e-01  6.9006e-01  5.8832e-01  4.8772e-01\n",
      "  3.8832e-01  2.9006e-01  1.9278e-01  9.6204e-02 -1.5044e-18]\n"
     ]
    }
   ],
   "source": [
    "x = np.linspace(0,1,11)\n",
    "\n",
    "t = 0.4\n",
    "\n",
    "nmax = 20\n",
    "print('水位 (t = {},'.format(t), 'nmax = {}):'.format(nmax))\n",
    "print(river_head(t, x, nmax))\n",
    "\n",
    "nmax = 50\n",
    "print('水位 (t = {},'.format(t), 'nmax = {}):'.format(nmax))\n",
    "print(river_head(t, x, nmax)) "
   ]
  },
  {
   "cell_type": "markdown",
   "metadata": {},
   "source": [
    "**单宽流量**\n",
    "\n",
    "$$\n",
    "q_{x,t}=-T\\frac{dH}{dx}=\\frac{T}{l}\\left\\lbrack\\Delta h_1G(\\bar{x},\\bar{t})-\\Delta h_2G'(\\bar{x},\\bar{t})\\right\\rbrack\n",
    "$$\n",
    "\n",
    "式中,\n",
    "\n",
    "$$\n",
    "\\begin{split}\n",
    "G(\\bar{x},\\bar{t})&=-\\frac{dF}{d\\bar{x}}\n",
    "=1+2\\sum_{n=1}^{\\infty}\\cos(n\\pi\\bar{x})e^{-n^2\\pi^2\\bar{t}}\\\\\n",
    "G'(\\bar{x},\\bar{t})&=\\frac{dF'}{d\\bar{x}}\n",
    "=1+2\\sum_{n=1}^{\\infty}(-1)^n\\cos(n\\pi\\bar{x})e^{-n^2\\pi^2\\bar{t}}\n",
    "\\end{split}\n",
    "$$\n",
    "\n",
    "$G(\\bar{x},\\bar{t})$ 为河渠流量函数，$G'(\\bar{x},\\bar{t})$ 为河渠流量余函数，$G'(\\bar{x},\\bar{t})=G(1-\\bar{x},\\bar{t})$."
   ]
  },
  {
   "cell_type": "markdown",
   "metadata": {},
   "source": [
    "**计算河渠流量的函数**"
   ]
  },
  {
   "cell_type": "code",
   "execution_count": 3,
   "metadata": {},
   "outputs": [],
   "source": [
    "import numpy as np\n",
    "\n",
    "# np.set_printoptions( ) 控制显示的小数位, 默认 8 位小数位. 可用 formatter 参数自定义显示的格式\n",
    "# 例如: np.set_printoptions(formatter={'float': '{:.2f}'.format})\n",
    "np.set_printoptions(precision=4)\n",
    "\n",
    "# 河渠流量函数\n",
    "def river_flow(t, x, nmax):\n",
    "    if t <=0:\n",
    "        g = 0.0\n",
    "    else:\n",
    "        g = 1.0\n",
    "        for n in range(1, nmax + 1):\n",
    "            alpha = n * np.pi\n",
    "            term = 2.0 * np.cos(alpha*x) * np.exp(-t*alpha**2) \n",
    "            g = g + term\n",
    "    return g\n",
    "\n",
    "# 将函数向量化\n",
    "river_flow = np.vectorize(river_flow)\n"
   ]
  },
  {
   "cell_type": "code",
   "execution_count": 4,
   "metadata": {},
   "outputs": [
    {
     "name": "stdout",
     "output_type": "stream",
     "text": [
      "水位 (t = 0.4, nmax = 20):\n",
      "[1.0386 1.0367 1.0312 1.0227 1.0119 1.     0.9881 0.9773 0.9688 0.9633\n",
      " 0.9614]\n",
      "水位 (t = 0.4, nmax = 50):\n",
      "[1.0386 1.0367 1.0312 1.0227 1.0119 1.     0.9881 0.9773 0.9688 0.9633\n",
      " 0.9614]\n"
     ]
    }
   ],
   "source": [
    "x = np.linspace(0,1,11)\n",
    "\n",
    "t = 0.4\n",
    "\n",
    "nmax = 20\n",
    "print('水位 (t = {},'.format(t), 'nmax = {}):'.format(nmax))\n",
    "print(river_flow(t, x, nmax))\n",
    "\n",
    "nmax = 50\n",
    "print('水位 (t = {},'.format(t), 'nmax = {}):'.format(nmax))\n",
    "print(river_flow(t, x, nmax)) "
   ]
  },
  {
   "cell_type": "markdown",
   "metadata": {},
   "source": [
    "## 潜水"
   ]
  },
  {
   "cell_type": "markdown",
   "metadata": {},
   "source": [
    "**数学模型**\n",
    "\n",
    "$$\n",
    "\\left\\{\\begin{array}{l}\n",
    "\\frac{\\partial h}{\\partial t}\n",
    "=\\frac{K}{\\mu}\\frac{\\partial}{\\partial x}\\left(h\\frac{\\partial h}{\\partial x}\\right)\\\\\n",
    "h^2(x,0)=(1-\\frac{x}{l})h_{0,0}^2+\\frac{x}{l}h_{l,0}^2\\\\\n",
    "h(0,t)=h_{0,t} \\\\\n",
    "h(l,t)=h_{l,t}\n",
    "\\end{array}\\right.\n",
    "$$"
   ]
  },
  {
   "cell_type": "markdown",
   "metadata": {},
   "source": [
    "记 $\\Delta(h_{0,t}^2)=h_{0,t}^2-h_{0,0}^2$，$\\Delta(h_{l,t}^2)=h_{l,t}^2-h_{l,0}^2$，$\\bar{x}=\\frac{x}{l},\\bar{t}=\\frac{at}{l^2}$\n",
    "\n",
    "**河渠水位**\n",
    "\n",
    "$$\n",
    "h^2_{x,t}-h^2_{x,0}=\\Delta(h_{0,t}^2)F(\\bar{x},\\bar{t})\n",
    "+\\Delta(h_{l,t}^2)F'(\\bar{x},\\bar{t})\n",
    "$$\n",
    "\n",
    "**单宽流量**\n",
    "\n",
    "$$\n",
    "q_{x,t}=-Kh\\frac{dh}{dx}=q_{x,0}+\\frac{K}{2l}\\left(\\Delta h_{0,t}^{2}G(\\bar{x},\\bar{t})-\n",
    "\\Delta h_{l,t}^{2}G'(\\bar{x},\\bar{t})\\right)\n",
    "$$\n",
    "\n",
    "式中\n",
    "\n",
    "$$\n",
    "q_{x,0}=K\\frac{h_{0,0}^2-h_{l,0}^2}{2l}\n",
    "$$"
   ]
  },
  {
   "cell_type": "markdown",
   "metadata": {},
   "source": [
    "## 绘图演示 - 潜水"
   ]
  },
  {
   "cell_type": "markdown",
   "metadata": {},
   "source": [
    "**库文件导入与设置**"
   ]
  },
  {
   "cell_type": "code",
   "execution_count": 5,
   "metadata": {},
   "outputs": [],
   "source": [
    "%matplotlib widget\n",
    "\n",
    "import matplotlib.pyplot as plt\n",
    "import numpy as np\n",
    "\n",
    "import mpl_interactions.ipyplot as iplt"
   ]
  },
  {
   "cell_type": "markdown",
   "metadata": {},
   "source": [
    "**设置一些初始参数**"
   ]
  },
  {
   "cell_type": "code",
   "execution_count": 6,
   "metadata": {},
   "outputs": [],
   "source": [
    "L = 1000 # aquifer length, m\n",
    "K = 10 # hydraulic conductivity, m/d\n",
    "H = 40 # aquifer top\n",
    "zt = 30 # water level top, m\n",
    "zb = 10 # aquifer bottom, m\n",
    "mu = 0.15 # specific yield \n",
    "a = K * 30 / mu "
   ]
  },
  {
   "cell_type": "markdown",
   "metadata": {},
   "source": [
    "**计算水头的函数**"
   ]
  },
  {
   "cell_type": "code",
   "execution_count": 7,
   "metadata": {},
   "outputs": [],
   "source": [
    "# hydraulic head\n",
    "\n",
    "def head(x, h0_, hl_, h0t, hlt, t):\n",
    "    h02_ = h0_**2 - (h0_**2 - hl_**2) * x /L\n",
    "    t_ = a * t /L /L\n",
    "    x_ = x /L\n",
    "    dh0 = h0t*h0t-h0_*h0_\n",
    "    dhl = hlt*hlt-hl_*hl_\n",
    "    ht = h02_ + dh0*river_head(t_, x_, 20) + dhl*river_head(t_, 1 - x_, 20)\n",
    "    return np.sqrt(ht)\n"
   ]
  },
  {
   "cell_type": "markdown",
   "metadata": {},
   "source": [
    "**可交互的绘图程序**"
   ]
  },
  {
   "cell_type": "code",
   "execution_count": 8,
   "metadata": {},
   "outputs": [
    {
     "data": {
      "application/vnd.jupyter.widget-view+json": {
       "model_id": "1f1b5089f7a34a909c84f0aea23f39f3",
       "version_major": 2,
       "version_minor": 0
      },
      "text/plain": [
       "VBox(children=(HBox(children=(IntSlider(value=0, description='h0_', max=200, readout=False), Label(value='10.0…"
      ]
     },
     "metadata": {},
     "output_type": "display_data"
    },
    {
     "data": {
      "text/plain": [
       "<matplotlib.legend.Legend at 0x271602346d0>"
      ]
     },
     "execution_count": 8,
     "metadata": {},
     "output_type": "execute_result"
    },
    {
     "data": {
      "application/vnd.jupyter.widget-view+json": {
       "model_id": "a1b863c444b2469d9249f641f170bc76",
       "version_major": 2,
       "version_minor": 0
      },
      "image/png": "[encoded data removed]",
      "text/html": [
       "\n",
       "            <div style=\"display: inline-block;\">\n",
       "                <div class=\"jupyter-widgets widget-label\" style=\"text-align: center;\">\n",
       "                    Figure\n",
       "                </div>\n",
       "                <img src='data:image/png;base64,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' width=600.0/>\n",
       "            </div>\n",
       "        "
      ],
      "text/plain": [
       "Canvas(toolbar=Toolbar(toolitems=[('Home', 'Reset original view', 'home', 'home'), ('Back', 'Back to previous …"
      ]
     },
     "metadata": {},
     "output_type": "display_data"
    }
   ],
   "source": [
    "# make the interactive figure\n",
    "\n",
    "x = np.linspace(0, L, 101)\n",
    "t = np.linspace(0, 1000, 1001)\n",
    "h0_ = np.linspace(zb, zt, 201)\n",
    "hl_ = h0_\n",
    "h0t = np.linspace(zb, H, 301)\n",
    "hlt = h0t\n",
    "\n",
    "fig, ax = plt.subplots(figsize=[6, 4])\n",
    "\n",
    "ax.set_xlim(0, L)\n",
    "ax.set_ylim(zb, H)\n",
    "\n",
    "controls = iplt.plot(x, head, h0_=h0_, hl_=hl_,\n",
    "                     h0t=h0t, hlt=hlt, t=t,\n",
    "                     label=\"潜水位(m)\")\n",
    "\n",
    "plt.legend(prop={'family': 'KaiTi'},\n",
    "           handlelength=2, loc=2,\n",
    "           title=\"图例\",\n",
    "           title_fontproperties={'family': 'SimHei'})\n"
   ]
  },
  {
   "cell_type": "code",
   "execution_count": 9,
   "metadata": {},
   "outputs": [],
   "source": [
    "plt.savefig('plot.svg', format='svg')"
   ]
  }
 ],
 "metadata": {
  "jupytext": {
   "cell_metadata_filter": "-all",
   "formats": "ipynb,md",
   "notebook_metadata_filter": "-all"
  },
  "kernelspec": {
   "display_name": "Python 3 (ipykernel)",
   "language": "python",
   "name": "python3"
  },
  "language_info": {
   "codemirror_mode": {
    "name": "ipython",
    "version": 3
   },
   "file_extension": ".py",
   "mimetype": "text/x-python",
   "name": "python",
   "nbconvert_exporter": "python",
   "pygments_lexer": "ipython3",
   "version": "3.11.5"
  },
  "toc": {
   "base_numbering": 1
  },
  "widgets": {
   "application/vnd.jupyter.widget-state+json": {
    "state": {
     "05aeee41564e47bda5b50d761de27fca": {
      "model_module": "@jupyter-widgets/base",
      "model_module_version": "2.0.0",
      "model_name": "LayoutModel",
      "state": {}
     },
     "0991e6fe916d4d478593a59500c5c001": {
      "model_module": "@jupyter-widgets/controls",
      "model_module_version": "2.0.0",
      "model_name": "LabelStyleModel",
      "state": {
       "description_width": "",
       "font_family": null,
       "font_size": null,
       "font_style": null,
       "font_variant": null,
       "font_weight": null,
       "text_color": null,
       "text_decoration": null
      }
     },
     "0cc5fcf5b68e43d39b08e0b0301b322c": {
      "model_module": "@jupyter-widgets/base",
      "model_module_version": "2.0.0",
      "model_name": "LayoutModel",
      "state": {}
     },
     "1500a74646074d3fada700f7923c27a1": {
      "model_module": "@jupyter-widgets/base",
      "model_module_version": "2.0.0",
      "model_name": "LayoutModel",
      "state": {}
     },
     "1a0354fcab484303abe2d01201479220": {
      "model_module": "@jupyter-widgets/controls",
      "model_module_version": "2.0.0",
      "model_name": "SliderStyleModel",
      "state": {
       "description_width": ""
      }
     },
     "1cc7045c578b4f0e8ea9192cfc687b77": {
      "model_module": "@jupyter-widgets/base",
      "model_module_version": "2.0.0",
      "model_name": "LayoutModel",
      "state": {}
     },
     "1f1b5089f7a34a909c84f0aea23f39f3": {
      "model_module": "@jupyter-widgets/controls",
      "model_module_version": "2.0.0",
      "model_name": "VBoxModel",
      "state": {
       "children": [
        "IPY_MODEL_23a09b4d623846ffa300bce2a59ddb16",
        "IPY_MODEL_467296137d834b22abbfc714961a5463",
        "IPY_MODEL_c307ba1cc73d4da68645e40e8e818bff",
        "IPY_MODEL_c05299969ff34ab59425832b9f9ee3a2",
        "IPY_MODEL_63bf7a9a721a460696e826ee5820d189"
       ],
       "layout": "IPY_MODEL_d93570054ca3472eaf07f6cd7c481ca5"
      }
     },
     "23a09b4d623846ffa300bce2a59ddb16": {
      "model_module": "@jupyter-widgets/controls",
      "model_module_version": "2.0.0",
      "model_name": "HBoxModel",
      "state": {
       "children": [
        "IPY_MODEL_343139b6da71452ab343ca4db0378b7a",
        "IPY_MODEL_e674e18fdf0f4e838c5532fbdba4ba4c"
       ],
       "layout": "IPY_MODEL_609ae3ae962946ae8070523d137f9b94"
      }
     },
     "28cfe0ed91c44f8da2f44f5bbb6f54e5": {
      "model_module": "@jupyter-widgets/controls",
      "model_module_version": "2.0.0",
      "model_name": "IntSliderModel",
      "state": {
       "behavior": "drag-tap",
       "description": "h0t",
       "layout": "IPY_MODEL_49347029f9724a7f9e07a8a28a22802d",
       "max": 300,
       "readout": false,
       "style": "IPY_MODEL_f37dae78556447558137b61608de422d",
       "value": 76
      }
     },
     "343139b6da71452ab343ca4db0378b7a": {
      "model_module": "@jupyter-widgets/controls",
      "model_module_version": "2.0.0",
      "model_name": "IntSliderModel",
      "state": {
       "behavior": "drag-tap",
       "description": "h0_",
       "layout": "IPY_MODEL_d98123abcf264a5ab946cfc5c41888e0",
       "max": 200,
       "readout": false,
       "style": "IPY_MODEL_c84a4dc5921e4b0a9a108d5383170189",
       "value": 59
      }
     },
     "3e35b7bd68dc4a7b8282592de6cbf797": {
      "model_module": "@jupyter-widgets/controls",
      "model_module_version": "2.0.0",
      "model_name": "LabelModel",
      "state": {
       "layout": "IPY_MODEL_0cc5fcf5b68e43d39b08e0b0301b322c",
       "style": "IPY_MODEL_fc979d5cf7a04a048639bedbf55e886e",
       "value": "155.00"
      }
     },
     "3eae632e686147e6ba37c153e0713d94": {
      "model_module": "@jupyter-widgets/base",
      "model_module_version": "2.0.0",
      "model_name": "LayoutModel",
      "state": {}
     },
     "467296137d834b22abbfc714961a5463": {
      "model_module": "@jupyter-widgets/controls",
      "model_module_version": "2.0.0",
      "model_name": "HBoxModel",
      "state": {
       "children": [
        "IPY_MODEL_858de97f491b442f87e2124b967e2222",
        "IPY_MODEL_5c5b2b35c560498aad1164391fa8e415"
       ],
       "layout": "IPY_MODEL_1500a74646074d3fada700f7923c27a1"
      }
     },
     "49347029f9724a7f9e07a8a28a22802d": {
      "model_module": "@jupyter-widgets/base",
      "model_module_version": "2.0.0",
      "model_name": "LayoutModel",
      "state": {}
     },
     "599a65fd32c941d2bd6a4f3b6d59bf1c": {
      "model_module": "@jupyter-widgets/base",
      "model_module_version": "2.0.0",
      "model_name": "LayoutModel",
      "state": {}
     },
     "5c5b2b35c560498aad1164391fa8e415": {
      "model_module": "@jupyter-widgets/controls",
      "model_module_version": "2.0.0",
      "model_name": "LabelModel",
      "state": {
       "layout": "IPY_MODEL_6e318f0e08504ca38e246dc5a1eac02e",
       "style": "IPY_MODEL_6e345e4ff4174b98b86a0dff001cd472",
       "value": "23.60"
      }
     },
     "609ae3ae962946ae8070523d137f9b94": {
      "model_module": "@jupyter-widgets/base",
      "model_module_version": "2.0.0",
      "model_name": "LayoutModel",
      "state": {}
     },
     "63bf7a9a721a460696e826ee5820d189": {
      "model_module": "@jupyter-widgets/controls",
      "model_module_version": "2.0.0",
      "model_name": "HBoxModel",
      "state": {
       "children": [
        "IPY_MODEL_b421cff4e23549118d84961de6914d48",
        "IPY_MODEL_3e35b7bd68dc4a7b8282592de6cbf797"
       ],
       "layout": "IPY_MODEL_e4446a69574e4ec1be2dfd47701678a5"
      }
     },
     "6e318f0e08504ca38e246dc5a1eac02e": {
      "model_module": "@jupyter-widgets/base",
      "model_module_version": "2.0.0",
      "model_name": "LayoutModel",
      "state": {}
     },
     "6e345e4ff4174b98b86a0dff001cd472": {
      "model_module": "@jupyter-widgets/controls",
      "model_module_version": "2.0.0",
      "model_name": "LabelStyleModel",
      "state": {
       "description_width": "",
       "font_family": null,
       "font_size": null,
       "font_style": null,
       "font_variant": null,
       "font_weight": null,
       "text_color": null,
       "text_decoration": null
      }
     },
     "78f127a89825429783054553485ef8eb": {
      "model_module": "@jupyter-widgets/controls",
      "model_module_version": "2.0.0",
      "model_name": "IntSliderModel",
      "state": {
       "behavior": "drag-tap",
       "description": "hlt",
       "layout": "IPY_MODEL_3eae632e686147e6ba37c153e0713d94",
       "max": 300,
       "readout": false,
       "style": "IPY_MODEL_d19ee21242fc4b0ca48c3729ca6d32fd",
       "value": 56
      }
     },
     "858de97f491b442f87e2124b967e2222": {
      "model_module": "@jupyter-widgets/controls",
      "model_module_version": "2.0.0",
      "model_name": "IntSliderModel",
      "state": {
       "behavior": "drag-tap",
       "description": "hl_",
       "layout": "IPY_MODEL_a9364615a7734ac4888bc8707e0f7bf9",
       "max": 200,
       "readout": false,
       "style": "IPY_MODEL_de36a0d24b514b94b869bd55a8725c26",
       "value": 136
      }
     },
     "89b777d1480d42af8823de124de770ca": {
      "model_module": "@jupyter-widgets/base",
      "model_module_version": "2.0.0",
      "model_name": "LayoutModel",
      "state": {}
     },
     "956008a11d004ea8a28bed656977caa7": {
      "model_module": "jupyter-matplotlib",
      "model_module_version": "^0.11",
      "model_name": "ToolbarModel",
      "state": {
       "_model_module_version": "^0.11",
       "_view_module_version": "^0.11",
       "collapsed": true,
       "layout": "IPY_MODEL_599a65fd32c941d2bd6a4f3b6d59bf1c",
       "orientation": "vertical",
       "toolitems": [
        [
         "Home",
         "Reset original view",
         "home",
         "home"
        ],
        [
         "Back",
         "Back to previous view",
         "arrow-left",
         "back"
        ],
        [
         "Forward",
         "Forward to next view",
         "arrow-right",
         "forward"
        ],
        [
         "Pan",
         "Left button pans, Right button zooms\nx/y fixes axis, CTRL fixes aspect",
         "arrows",
         "pan"
        ],
        [
         "Zoom",
         "Zoom to rectangle\nx/y fixes axis",
         "square-o",
         "zoom"
        ],
        [
         "Download",
         "Download plot",
         "floppy-o",
         "save_figure"
        ]
       ]
      }
     },
     "9dac635717004076a47dcb0f4eb249ad": {
      "model_module": "@jupyter-widgets/base",
      "model_module_version": "2.0.0",
      "model_name": "LayoutModel",
      "state": {}
     },
     "a1b863c444b2469d9249f641f170bc76": {
      "model_module": "jupyter-matplotlib",
      "model_module_version": "^0.11",
      "model_name": "MPLCanvasModel",
      "state": {
       "_cursor": "default",
       "_data_url": "data:image/png;base64,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",
       "_figure_label": "Figure 1",
       "_image_mode": "diff",
       "_model_module_version": "^0.11",
       "_size": [
        600,
        400
       ],
       "_view_module_version": "^0.11",
       "layout": "IPY_MODEL_05aeee41564e47bda5b50d761de27fca",
       "toolbar": "IPY_MODEL_956008a11d004ea8a28bed656977caa7",
       "toolbar_position": "left"
      }
     },
     "a595d144289a48c2a5b1c2cf72c762c0": {
      "model_module": "@jupyter-widgets/controls",
      "model_module_version": "2.0.0",
      "model_name": "LabelModel",
      "state": {
       "layout": "IPY_MODEL_1cc7045c578b4f0e8ea9192cfc687b77",
       "style": "IPY_MODEL_aba70bfa374b4203bfd8adee0b19321c",
       "value": "15.60"
      }
     },
     "a9364615a7734ac4888bc8707e0f7bf9": {
      "model_module": "@jupyter-widgets/base",
      "model_module_version": "2.0.0",
      "model_name": "LayoutModel",
      "state": {}
     },
     "aba70bfa374b4203bfd8adee0b19321c": {
      "model_module": "@jupyter-widgets/controls",
      "model_module_version": "2.0.0",
      "model_name": "LabelStyleModel",
      "state": {
       "description_width": "",
       "font_family": null,
       "font_size": null,
       "font_style": null,
       "font_variant": null,
       "font_weight": null,
       "text_color": null,
       "text_decoration": null
      }
     },
     "b421cff4e23549118d84961de6914d48": {
      "model_module": "@jupyter-widgets/controls",
      "model_module_version": "2.0.0",
      "model_name": "IntSliderModel",
      "state": {
       "behavior": "drag-tap",
       "description": "t",
       "layout": "IPY_MODEL_9dac635717004076a47dcb0f4eb249ad",
       "max": 1000,
       "readout": false,
       "style": "IPY_MODEL_1a0354fcab484303abe2d01201479220",
       "value": 155
      }
     },
     "b6da6935c64846f5a6f1b6b1781416df": {
      "model_module": "@jupyter-widgets/base",
      "model_module_version": "2.0.0",
      "model_name": "LayoutModel",
      "state": {}
     },
     "b7b882e484484513a59b98aecf244cfa": {
      "model_module": "@jupyter-widgets/controls",
      "model_module_version": "2.0.0",
      "model_name": "LabelStyleModel",
      "state": {
       "description_width": "",
       "font_family": null,
       "font_size": null,
       "font_style": null,
       "font_variant": null,
       "font_weight": null,
       "text_color": null,
       "text_decoration": null
      }
     },
     "bc63d062a4fb41c3af941ce295056e88": {
      "model_module": "@jupyter-widgets/controls",
      "model_module_version": "2.0.0",
      "model_name": "LabelModel",
      "state": {
       "layout": "IPY_MODEL_eef98ee2df4148b5ae8c5974cd912812",
       "style": "IPY_MODEL_0991e6fe916d4d478593a59500c5c001",
       "value": "17.60"
      }
     },
     "c05299969ff34ab59425832b9f9ee3a2": {
      "model_module": "@jupyter-widgets/controls",
      "model_module_version": "2.0.0",
      "model_name": "HBoxModel",
      "state": {
       "children": [
        "IPY_MODEL_78f127a89825429783054553485ef8eb",
        "IPY_MODEL_a595d144289a48c2a5b1c2cf72c762c0"
       ],
       "layout": "IPY_MODEL_89b777d1480d42af8823de124de770ca"
      }
     },
     "c307ba1cc73d4da68645e40e8e818bff": {
      "model_module": "@jupyter-widgets/controls",
      "model_module_version": "2.0.0",
      "model_name": "HBoxModel",
      "state": {
       "children": [
        "IPY_MODEL_28cfe0ed91c44f8da2f44f5bbb6f54e5",
        "IPY_MODEL_bc63d062a4fb41c3af941ce295056e88"
       ],
       "layout": "IPY_MODEL_b6da6935c64846f5a6f1b6b1781416df"
      }
     },
     "c84a4dc5921e4b0a9a108d5383170189": {
      "model_module": "@jupyter-widgets/controls",
      "model_module_version": "2.0.0",
      "model_name": "SliderStyleModel",
      "state": {
       "description_width": ""
      }
     },
     "d19ee21242fc4b0ca48c3729ca6d32fd": {
      "model_module": "@jupyter-widgets/controls",
      "model_module_version": "2.0.0",
      "model_name": "SliderStyleModel",
      "state": {
       "description_width": ""
      }
     },
     "d61850f6ae0f4015af9b786acf942c83": {
      "model_module": "@jupyter-widgets/base",
      "model_module_version": "2.0.0",
      "model_name": "LayoutModel",
      "state": {}
     },
     "d93570054ca3472eaf07f6cd7c481ca5": {
      "model_module": "@jupyter-widgets/base",
      "model_module_version": "2.0.0",
      "model_name": "LayoutModel",
      "state": {}
     },
     "d98123abcf264a5ab946cfc5c41888e0": {
      "model_module": "@jupyter-widgets/base",
      "model_module_version": "2.0.0",
      "model_name": "LayoutModel",
      "state": {}
     },
     "de36a0d24b514b94b869bd55a8725c26": {
      "model_module": "@jupyter-widgets/controls",
      "model_module_version": "2.0.0",
      "model_name": "SliderStyleModel",
      "state": {
       "description_width": ""
      }
     },
     "e4446a69574e4ec1be2dfd47701678a5": {
      "model_module": "@jupyter-widgets/base",
      "model_module_version": "2.0.0",
      "model_name": "LayoutModel",
      "state": {}
     },
     "e674e18fdf0f4e838c5532fbdba4ba4c": {
      "model_module": "@jupyter-widgets/controls",
      "model_module_version": "2.0.0",
      "model_name": "LabelModel",
      "state": {
       "layout": "IPY_MODEL_d61850f6ae0f4015af9b786acf942c83",
       "style": "IPY_MODEL_b7b882e484484513a59b98aecf244cfa",
       "value": "15.90"
      }
     },
     "eef98ee2df4148b5ae8c5974cd912812": {
      "model_module": "@jupyter-widgets/base",
      "model_module_version": "2.0.0",
      "model_name": "LayoutModel",
      "state": {}
     },
     "f37dae78556447558137b61608de422d": {
      "model_module": "@jupyter-widgets/controls",
      "model_module_version": "2.0.0",
      "model_name": "SliderStyleModel",
      "state": {
       "description_width": ""
      }
     },
     "fc979d5cf7a04a048639bedbf55e886e": {
      "model_module": "@jupyter-widgets/controls",
      "model_module_version": "2.0.0",
      "model_name": "LabelStyleModel",
      "state": {
       "description_width": "",
       "font_family": null,
       "font_size": null,
       "font_style": null,
       "font_variant": null,
       "font_weight": null,
       "text_color": null,
       "text_decoration": null
      }
     }
    },
    "version_major": 2,
    "version_minor": 0
   }
  }
 },
 "nbformat": 4,
 "nbformat_minor": 4
}
